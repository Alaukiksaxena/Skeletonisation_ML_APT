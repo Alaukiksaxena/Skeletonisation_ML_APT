{
 "cells": [
  {
   "cell_type": "code",
   "execution_count": 1,
   "id": "3d6cd8fd",
   "metadata": {},
   "outputs": [],
   "source": [
    "# Import libraries\n",
    "import sys\n",
    "import os\n",
    "import pandas as pd\n",
    "import h5py\n",
    "import numpy as np\n",
    "from sklearn.decomposition import PCA\n",
    "from sklearn.mixture import GaussianMixture\n",
    "import json \n",
    "import h5py\n",
    "import numpy as np\n",
    "import pandas as pd\n",
    "import matplotlib.pylab as plt\n",
    "from tqdm import tqdm\n",
    "import os\n"
   ]
  },
  {
   "cell_type": "code",
   "execution_count": 2,
   "id": "2f1898bf",
   "metadata": {},
   "outputs": [
    {
     "name": "stdout",
     "output_type": "stream",
     "text": [
      "/talos/u/gazal/APT_SiGe/CompositionSpaceNFDI/tests\r\n"
     ]
    }
   ],
   "source": [
    "MYPREFIX='/u/gazal/APT_SiGe/CompositionSpaceNFDI'\n",
    "CWD = os.getcwd()\n",
    "sys.path.append(MYPREFIX)\n",
    "! echo $PWD"
   ]
  },
  {
   "cell_type": "code",
   "execution_count": 3,
   "id": "f8a46943",
   "metadata": {},
   "outputs": [],
   "source": [
    "from compositionspace.datautils import Prepare_data\n",
    "import json \n",
    "import pandas as pd\n",
    "import matplotlib.pylab as plt\n",
    "from compositionspace.segmentation import Composition_clustering\n",
    "from compositionspace.postprocessing import Postprocess_data\n",
    "from compositionspace.meshes import *"
   ]
  },
  {
   "cell_type": "code",
   "execution_count": 5,
   "id": "2480ce90",
   "metadata": {},
   "outputs": [],
   "source": [
    "Vox_centroid_file = '/u/gazal/APT_SiGe/output/output_voxels/Output_voxel_cetroids_phases.h5'\n",
    "Vox_ratios = \"/u/gazal/APT_SiGe/output/output_voxels/Output_voxel_composition.h5\"\n",
    "Slices_file = '/u/gazal/APT_SiGe/output/output_voxels/Output_big_slices.h5'\n",
    "Dbscan_results = \"/u/gazal/APT_SiGe/output/output_voxels/Output_DBSCAN_segmentation_phase_1.h5\""
   ]
  },
  {
   "cell_type": "code",
   "execution_count": 6,
   "id": "fef303b2",
   "metadata": {},
   "outputs": [
    {
     "name": "stdout",
     "output_type": "stream",
     "text": [
      "0\n",
      "1\n",
      "2\n",
      "3\n",
      "4\n",
      "5\n",
      "6\n",
      "7\n",
      "key =  1\n",
      "-4.0\n",
      "-43.8934466364298\n",
      "-42.39453979597822\n"
     ]
    },
    {
     "name": "stderr",
     "output_type": "stream",
     "text": [
      "100%|██████████| 3612/3612 [00:09<00:00, 376.01it/s]\n"
     ]
    },
    {
     "name": "stdout",
     "output_type": "stream",
     "text": [
      "**Out mesh for plotting**\n"
     ]
    },
    {
     "name": "stderr",
     "output_type": "stream",
     "text": [
      "100%|██████████| 1580/1580 [00:10<00:00, 149.72it/s]\n"
     ]
    },
    {
     "name": "stdout",
     "output_type": "stream",
     "text": [
      "key = ************** 1\n"
     ]
    },
    {
     "name": "stderr",
     "output_type": "stream",
     "text": [
      "100%|██████████| 1580/1580 [00:01<00:00, 1432.94it/s]\n"
     ]
    },
    {
     "name": "stdout",
     "output_type": "stream",
     "text": [
      "key =  2\n",
      "-4.0\n",
      "-39.97974156742342\n",
      "-38.40544207026066\n"
     ]
    },
    {
     "name": "stderr",
     "output_type": "stream",
     "text": [
      "100%|██████████| 2964/2964 [00:06<00:00, 463.06it/s]\n"
     ]
    },
    {
     "name": "stdout",
     "output_type": "stream",
     "text": [
      "**Out mesh for plotting**\n"
     ]
    },
    {
     "name": "stderr",
     "output_type": "stream",
     "text": [
      "100%|██████████| 1313/1313 [00:07<00:00, 172.42it/s]\n"
     ]
    },
    {
     "name": "stdout",
     "output_type": "stream",
     "text": [
      "key = ************** 2\n"
     ]
    },
    {
     "name": "stderr",
     "output_type": "stream",
     "text": [
      "100%|██████████| 1313/1313 [00:00<00:00, 1460.22it/s]\n"
     ]
    },
    {
     "name": "stdout",
     "output_type": "stream",
     "text": [
      "key =  3\n",
      "-4.0\n",
      "-36.046009918180424\n",
      "-34.75014342410505\n"
     ]
    },
    {
     "name": "stderr",
     "output_type": "stream",
     "text": [
      "100%|██████████| 2448/2448 [00:03<00:00, 626.17it/s]\n"
     ]
    },
    {
     "name": "stdout",
     "output_type": "stream",
     "text": [
      "**Out mesh for plotting**\n"
     ]
    },
    {
     "name": "stderr",
     "output_type": "stream",
     "text": [
      "100%|██████████| 1078/1078 [00:05<00:00, 214.03it/s]\n"
     ]
    },
    {
     "name": "stdout",
     "output_type": "stream",
     "text": [
      "key = ************** 3\n"
     ]
    },
    {
     "name": "stderr",
     "output_type": "stream",
     "text": [
      "100%|██████████| 1078/1078 [00:00<00:00, 1476.16it/s]\n"
     ]
    }
   ],
   "source": [
    "input_file = Dbscan_results  \n",
    "output_file = \"/u/gazal/APT_SiGe/output/output_voxels/Output_meshes_normals.h5\" \n",
    "Normal_end_length =15\n",
    "grid_size = 4\n",
    "meshes_normals(input_file, output_file, grid_size, Normal_end_length)"
   ]
  }
 ],
 "metadata": {
  "kernelspec": {
   "display_name": "Python 3",
   "language": "python",
   "name": "python3"
  },
  "language_info": {
   "codemirror_mode": {
    "name": "ipython",
    "version": 3
   },
   "file_extension": ".py",
   "mimetype": "text/x-python",
   "name": "python",
   "nbconvert_exporter": "python",
   "pygments_lexer": "ipython3",
   "version": "3.7.6"
  }
 },
 "nbformat": 4,
 "nbformat_minor": 5
}
